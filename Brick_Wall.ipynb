{
 "cells": [
  {
   "cell_type": "markdown",
   "id": "888dba98",
   "metadata": {},
   "source": [
    "# Brick Wall Problem\n",
    "\n",
    "Given the height of a wall, determine how many bricks it would take build a wall. <br> \n",
    "Using big bricks first, then medium, and then small.\n",
    "\n",
    "**Note:** The brick sizes are known\n",
    "Brick Sizes"
   ]
  },
  {
   "cell_type": "code",
   "execution_count": 59,
   "id": "c6551a28",
   "metadata": {
    "scrolled": true
   },
   "outputs": [
    {
     "name": "stdout",
     "output_type": "stream",
     "text": [
      "5120\n",
      "Total Wall Height: 5120\n"
     ]
    }
   ],
   "source": [
    "height = int(input())\n",
    "print(f'Total Wall Height: {height}')"
   ]
  },
  {
   "cell_type": "markdown",
   "id": "1f6c933c",
   "metadata": {},
   "source": [
    "### Declare Brick Sizes"
   ]
  },
  {
   "cell_type": "code",
   "execution_count": 60,
   "id": "43de099b",
   "metadata": {},
   "outputs": [],
   "source": [
    "big_brick_size = 45\n",
    "medium_brick_size = 25\n",
    "small_brick_size = 1"
   ]
  },
  {
   "cell_type": "markdown",
   "id": "5da41fe1",
   "metadata": {},
   "source": [
    "### Calculate how many Big bricks can we fit first and the remaning height after doing so\n",
    "Let's divide the Total Height of the wall by the size of a Big Brick. We will use the Python Floor Division operator (```//```).  This operator will divide the first argument by the second and round the result down to the nearest whole number."
   ]
  },
  {
   "cell_type": "code",
   "execution_count": 61,
   "id": "6859dd1b",
   "metadata": {},
   "outputs": [
    {
     "name": "stdout",
     "output_type": "stream",
     "text": [
      "big_bricks_count: 113\n"
     ]
    }
   ],
   "source": [
    "big_bricks_count = height // big_brick_size\n",
    "print(f'big_bricks_count: {big_bricks_count}')"
   ]
  },
  {
   "cell_type": "markdown",
   "id": "adc6e241",
   "metadata": {},
   "source": [
    "### Calculate the remaining height after using Big Bricks"
   ]
  },
  {
   "cell_type": "markdown",
   "id": "9ae47ce9",
   "metadata": {},
   "source": [
    "* **Long method:** We can substract the total height of the wall, minus the number of Big bricks used times the bricks size"
   ]
  },
  {
   "cell_type": "code",
   "execution_count": 62,
   "id": "2c497b6f",
   "metadata": {
    "scrolled": true
   },
   "outputs": [
    {
     "name": "stdout",
     "output_type": "stream",
     "text": [
      "remaining_height_after_big_bricks: 35\n"
     ]
    }
   ],
   "source": [
    "remaining_height_after_big_bricks = height - (big_bricks_count * big_brick_size)\n",
    "print(f'remaining_height_after_big_bricks: {remaining_height_after_big_bricks}')"
   ]
  },
  {
   "cell_type": "markdown",
   "id": "6683fcd6",
   "metadata": {},
   "source": [
    "* **Short method:** We can use the Python Modulo operator (```%```), which returns the remainder of dividing two numbers."
   ]
  },
  {
   "cell_type": "code",
   "execution_count": 63,
   "id": "2d1f18ab",
   "metadata": {},
   "outputs": [
    {
     "name": "stdout",
     "output_type": "stream",
     "text": [
      "remaining_height_after_big_bricks: 35\n"
     ]
    }
   ],
   "source": [
    "remaining_height_after_big_bricks = height % big_brick_size\n",
    "print(f'remaining_height_after_big_bricks: {remaining_height_after_big_bricks}')"
   ]
  },
  {
   "cell_type": "markdown",
   "id": "3e6b71aa",
   "metadata": {},
   "source": [
    "### Calculate how many Medium bricks can we fit and the remaning height after doing so\n",
    "Let's first check if we can use Medium bricks by checking if the remaining height is greater than the size of a single Medium brick.<br><br>\n",
    "We will use an IF statement for this validation.<br><br>\n",
    "If **true** then divide the value of ```remaining_height_after_big_bricks``` by the size of a Medium Brick<br> to get the number of Medium bricks that can be used.<br>\n",
    "\n",
    "If **false** then no Medium bricks can be used, we will then try to fill the remaining height with Small bricks"
   ]
  },
  {
   "cell_type": "code",
   "execution_count": 64,
   "id": "35904d8a",
   "metadata": {},
   "outputs": [
    {
     "name": "stdout",
     "output_type": "stream",
     "text": [
      "medium_bricks_count: 1\n",
      "remaining_height_after_medium_bricks: 10\n"
     ]
    }
   ],
   "source": [
    "if remaining_height_after_big_bricks > medium_brick_size:\n",
    "\n",
    "    # Number of medium bricks that can be used to cover the remaining height\n",
    "    medium_bricks_count = remaining_height_after_big_bricks // medium_brick_size\n",
    "\n",
    "    # short alternative method (Modulo Operator)\n",
    "    remaining_height_after_medium_bricks = remaining_height_after_big_bricks % medium_brick_size\n",
    "    \n",
    "else:\n",
    "    medium_bricks_count = 0\n",
    "    remaining_height_after_medium_bricks = remaining_height_after_big_bricks\n",
    "\n",
    "print(f'medium_bricks_count: {medium_bricks_count}')\n",
    "print(f'remaining_height_after_medium_bricks: {remaining_height_after_medium_bricks}')"
   ]
  },
  {
   "cell_type": "markdown",
   "id": "42bcb26f",
   "metadata": {},
   "source": [
    "### Calculate how many Small bricks can we fit on the remaning height\n",
    "If there's any remaining height after using the Medium bricks, let's calculate how many Small bricks we can use to fill the remaining height."
   ]
  },
  {
   "cell_type": "code",
   "execution_count": 65,
   "id": "75af9471",
   "metadata": {},
   "outputs": [
    {
     "name": "stdout",
     "output_type": "stream",
     "text": [
      "small_bricks_count: 10\n"
     ]
    }
   ],
   "source": [
    "if remaining_height_after_medium_bricks > 0:\n",
    "    small_bricks_count = remaining_height_after_medium_bricks // small_brick_size\n",
    "    print(f'small_bricks_count: {small_bricks_count}')\n",
    "else:\n",
    "    small_bricks_count = 0"
   ]
  },
  {
   "cell_type": "markdown",
   "id": "573a0e58",
   "metadata": {},
   "source": [
    "### Results"
   ]
  },
  {
   "cell_type": "code",
   "execution_count": 66,
   "id": "ccbebc56",
   "metadata": {
    "scrolled": true
   },
   "outputs": [
    {
     "name": "stdout",
     "output_type": "stream",
     "text": [
      "Big Bricks Count: 113\n",
      "Medium Bricks Count: 1\n",
      "Small Bricks Count: 10\n"
     ]
    }
   ],
   "source": [
    "print(f'Big Bricks Count: {big_bricks_count}')\n",
    "print(f'Medium Bricks Count: {medium_bricks_count}')\n",
    "print(f'Small Bricks Count: {small_bricks_count}')"
   ]
  }
 ],
 "metadata": {
  "kernelspec": {
   "display_name": "Python 3 (ipykernel)",
   "language": "python",
   "name": "python3"
  },
  "language_info": {
   "codemirror_mode": {
    "name": "ipython",
    "version": 3
   },
   "file_extension": ".py",
   "mimetype": "text/x-python",
   "name": "python",
   "nbconvert_exporter": "python",
   "pygments_lexer": "ipython3",
   "version": "3.9.14"
  }
 },
 "nbformat": 4,
 "nbformat_minor": 5
}

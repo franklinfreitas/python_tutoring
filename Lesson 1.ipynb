{
 "cells": [
  {
   "cell_type": "markdown",
   "id": "28ca33af",
   "metadata": {},
   "source": [
    "## String Data Type"
   ]
  },
  {
   "cell_type": "code",
   "execution_count": 24,
   "id": "7773eeb5",
   "metadata": {},
   "outputs": [
    {
     "name": "stdout",
     "output_type": "stream",
     "text": [
      "<class 'str'>\n",
      "<class 'int'>\n",
      "11\n"
     ]
    }
   ],
   "source": [
    "my_value = '25'\n",
    "my_string = 'hello'\n",
    "my_string_02 = ' world'\n",
    "msg = my_string + my_string_02\n",
    "\n",
    "# type() Function allows you to inspect a Python object or variable to know its type\n",
    "print(type(msg))\n",
    "print(type(7826))\n",
    "\n",
    "# String Length\n",
    "print(len(msg))"
   ]
  },
  {
   "cell_type": "markdown",
   "id": "559846e2",
   "metadata": {},
   "source": [
    "## List and Tuples Data Types"
   ]
  },
  {
   "cell_type": "code",
   "execution_count": 25,
   "id": "ad5b51b3",
   "metadata": {},
   "outputs": [
    {
     "name": "stdout",
     "output_type": "stream",
     "text": [
      "['apples', 'oranges']\n"
     ]
    }
   ],
   "source": [
    "my_list = [10,20,30,40]\n",
    "\n",
    "my_list_02 = ['apples', 'oranges']\n",
    "\n",
    "type(my_list)\n",
    "\n",
    "print(my_list_02)\n",
    "\n",
    "len(my_list_02)\n",
    "\n",
    "my_tuple = ('apples', 'oranges')\n",
    "type(my_tuple)\n",
    "\n",
    "my_list_02.append('bananas')\n",
    "my_list_02\n",
    "\n",
    "# remove element from list\n",
    "my_list_02.remove('oranges')\n",
    "my_list_02\n",
    "\n",
    "# remove and store the removed value in another variable using pop\n",
    "removed_value = my_list_02.pop(0)"
   ]
  },
  {
   "cell_type": "code",
   "execution_count": 26,
   "id": "0f1a6169",
   "metadata": {},
   "outputs": [
    {
     "name": "stdout",
     "output_type": "stream",
     "text": [
      "True\n",
      "False\n"
     ]
    }
   ],
   "source": [
    "# Find an element inside a list, this will return a boolean value (True or False)\n",
    "my_list_02 = ['apples', 'oranges', 'bananas']\n",
    "print('oranges' in my_list_02)\n",
    "print('pineapple' in my_list_02)"
   ]
  },
  {
   "cell_type": "markdown",
   "id": "e74edb3e",
   "metadata": {},
   "source": [
    "## Coment Code"
   ]
  },
  {
   "cell_type": "code",
   "execution_count": 27,
   "id": "17cd712f",
   "metadata": {},
   "outputs": [
    {
     "data": {
      "text/plain": [
       "'\\nCommented Block \\n'"
      ]
     },
     "execution_count": 27,
     "metadata": {},
     "output_type": "execute_result"
    }
   ],
   "source": [
    "# Inline comment\n",
    "# dsjkskd\n",
    "# sdkjsdkj\n",
    "\"\"\"\n",
    "Commented Block \n",
    "\"\"\"\n"
   ]
  },
  {
   "cell_type": "markdown",
   "id": "7e7c150b",
   "metadata": {},
   "source": [
    "## Dictionary Data Type"
   ]
  },
  {
   "cell_type": "code",
   "execution_count": 28,
   "id": "c070699d",
   "metadata": {},
   "outputs": [
    {
     "name": "stdout",
     "output_type": "stream",
     "text": [
      "{'city': 'Orlando', 'state': 'FL', 'zip': 32828}\n",
      "{'city': 'Atlanta', 'state': 'GA', 'zip': 90210}\n",
      "Orlando\n"
     ]
    }
   ],
   "source": [
    "# Dictionaries\n",
    "my_dict = {'city':'Orlando', 'state':'FL', 'zip':32828}\n",
    "my_dict_02 = dict(city='Atlanta', state='GA', zip=90210 )\n",
    "\n",
    "print(my_dict)\n",
    "print(my_dict_02)\n",
    "print(my_dict['city'])\n"
   ]
  },
  {
   "cell_type": "markdown",
   "id": "826b0c57",
   "metadata": {},
   "source": [
    "## List of Dictionaries"
   ]
  },
  {
   "cell_type": "code",
   "execution_count": 29,
   "id": "066ad9b9",
   "metadata": {},
   "outputs": [
    {
     "name": "stdout",
     "output_type": "stream",
     "text": [
      "[{'city': 'Orlando', 'state': 'FL', 'zip': 32828}, {'city': 'Atlanta', 'state': 'GA', 'zip': 90210}]\n"
     ]
    }
   ],
   "source": [
    "dict_list = [\n",
    "    {'city':'Orlando', 'state':'FL', 'zip':32828},\n",
    "    {'city':'Atlanta', 'state':'GA', 'zip':90210}\n",
    "]\n",
    "print(dict_list)"
   ]
  },
  {
   "cell_type": "markdown",
   "id": "765a9d90",
   "metadata": {},
   "source": [
    "## Modulo Operator used to determine if an Integer is an Even or Odd number"
   ]
  },
  {
   "cell_type": "code",
   "execution_count": 30,
   "id": "09cbbaf8",
   "metadata": {},
   "outputs": [
    {
     "name": "stdout",
     "output_type": "stream",
     "text": [
      "1\n",
      "0\n",
      "a is Even\n",
      "b is Odd\n"
     ]
    }
   ],
   "source": [
    "a = 15\n",
    "b = 30\n",
    "\n",
    "print(a%2)\n",
    "print(b%2)\n",
    "\n",
    "if a%2:\n",
    "    print(f'a is Even')\n",
    "else:\n",
    "    print(f'a is Odd')\n",
    "    \n",
    "if b%2:\n",
    "    print(f'b is Even')\n",
    "else:\n",
    "    print(f'b is Odd')"
   ]
  },
  {
   "cell_type": "code",
   "execution_count": 31,
   "id": "41c89f09",
   "metadata": {},
   "outputs": [
    {
     "data": {
      "text/plain": [
       "[23, 24, 25, 26, 27, 28, 29, 30, 31, 32, 33, 34, 35, 36, 37]"
      ]
     },
     "execution_count": 31,
     "metadata": {},
     "output_type": "execute_result"
    }
   ],
   "source": [
    "# Convert a range object into a list, in this case mainly for viewing purposes\n",
    "list(range(23,38))"
   ]
  },
  {
   "cell_type": "markdown",
   "id": "d69d69d3",
   "metadata": {},
   "source": [
    "## Defining and calling a Function"
   ]
  },
  {
   "cell_type": "code",
   "execution_count": 32,
   "id": "d2340a6b",
   "metadata": {},
   "outputs": [],
   "source": [
    "def myfunction(a, b):\n",
    "    return a + b"
   ]
  },
  {
   "cell_type": "code",
   "execution_count": 33,
   "id": "3c462049",
   "metadata": {},
   "outputs": [
    {
     "data": {
      "text/plain": [
       "300"
      ]
     },
     "execution_count": 33,
     "metadata": {},
     "output_type": "execute_result"
    }
   ],
   "source": [
    "myfunction(100, 200)"
   ]
  },
  {
   "cell_type": "markdown",
   "id": "2d469d41",
   "metadata": {},
   "source": [
    "## For loop - Iterating through a Python List"
   ]
  },
  {
   "cell_type": "markdown",
   "id": "72ed0e8d",
   "metadata": {},
   "source": [
    "### Iterating through a Python List"
   ]
  },
  {
   "cell_type": "code",
   "execution_count": 34,
   "id": "d2a5ac0a",
   "metadata": {},
   "outputs": [
    {
     "name": "stdout",
     "output_type": "stream",
     "text": [
      "apples\n",
      "oranges\n",
      "bananas\n"
     ]
    }
   ],
   "source": [
    "for fruit in my_list_02:\n",
    "    print(fruit)\n"
   ]
  },
  {
   "cell_type": "markdown",
   "id": "cdada355",
   "metadata": {},
   "source": [
    "### Iterating through a Range"
   ]
  },
  {
   "cell_type": "code",
   "execution_count": 35,
   "id": "ad498f3b",
   "metadata": {
    "scrolled": true
   },
   "outputs": [
    {
     "name": "stdout",
     "output_type": "stream",
     "text": [
      "0\n",
      "1\n",
      "2\n",
      "3\n",
      "4\n",
      "5\n",
      "6\n",
      "7\n",
      "8\n",
      "9\n",
      "10\n"
     ]
    }
   ],
   "source": [
    "for x in range(0, 11):\n",
    "    print(x)"
   ]
  },
  {
   "cell_type": "markdown",
   "id": "5ebbdb57",
   "metadata": {},
   "source": [
    "### Iterating through a List of Dictionaries"
   ]
  },
  {
   "cell_type": "code",
   "execution_count": 36,
   "id": "7d904f76",
   "metadata": {},
   "outputs": [
    {
     "name": "stdout",
     "output_type": "stream",
     "text": [
      "{'city': 'Orlando', 'state': 'FL', 'zip': 32828}\n",
      "{'city': 'Atlanta', 'state': 'GA', 'zip': 90210}\n"
     ]
    }
   ],
   "source": [
    "for d in dict_list:\n",
    "    print(d)"
   ]
  }
 ],
 "metadata": {
  "kernelspec": {
   "display_name": "Python 3 (ipykernel)",
   "language": "python",
   "name": "python3"
  },
  "language_info": {
   "codemirror_mode": {
    "name": "ipython",
    "version": 3
   },
   "file_extension": ".py",
   "mimetype": "text/x-python",
   "name": "python",
   "nbconvert_exporter": "python",
   "pygments_lexer": "ipython3",
   "version": "3.9.14"
  }
 },
 "nbformat": 4,
 "nbformat_minor": 5
}

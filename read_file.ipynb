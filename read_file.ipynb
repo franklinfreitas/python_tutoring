{
 "cells": [
  {
   "cell_type": "code",
   "execution_count": 6,
   "id": "1d58c958",
   "metadata": {},
   "outputs": [
    {
     "name": "stdout",
     "output_type": "stream",
     "text": [
      "['cheese\\n', 'pepperoni\\n', 'mushrooms\\n', 'apples\\n', 'oranges\\n', 'bananas\\n']\n"
     ]
    }
   ],
   "source": [
    "with open('text01.txt', 'r') as textfile:\n",
    "    lines = textfile.readlines()\n",
    "print(lines)"
   ]
  },
  {
   "cell_type": "code",
   "execution_count": 7,
   "id": "e9991f43",
   "metadata": {},
   "outputs": [
    {
     "name": "stdout",
     "output_type": "stream",
     "text": [
      "cheese\n",
      "\n",
      "pepperoni\n",
      "\n",
      "mushrooms\n",
      "\n",
      "apples\n",
      "\n",
      "oranges\n",
      "\n",
      "bananas\n",
      "\n"
     ]
    }
   ],
   "source": [
    "# Iterate through lines\n",
    "with open('text01.txt', 'r') as textfile:\n",
    "    for line in textfile:\n",
    "        print(line)"
   ]
  },
  {
   "cell_type": "code",
   "execution_count": null,
   "id": "823d3eb9",
   "metadata": {},
   "outputs": [],
   "source": []
  }
 ],
 "metadata": {
  "kernelspec": {
   "display_name": "Python 3 (ipykernel)",
   "language": "python",
   "name": "python3"
  },
  "language_info": {
   "codemirror_mode": {
    "name": "ipython",
    "version": 3
   },
   "file_extension": ".py",
   "mimetype": "text/x-python",
   "name": "python",
   "nbconvert_exporter": "python",
   "pygments_lexer": "ipython3",
   "version": "3.9.14"
  }
 },
 "nbformat": 4,
 "nbformat_minor": 5
}
